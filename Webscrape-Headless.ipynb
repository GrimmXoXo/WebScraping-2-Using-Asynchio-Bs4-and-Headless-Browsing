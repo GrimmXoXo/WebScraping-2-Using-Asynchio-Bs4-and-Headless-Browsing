{
 "cells": [
  {
   "cell_type": "code",
   "execution_count": 8,
   "id": "eeac1b71",
   "metadata": {},
   "outputs": [],
   "source": [
    "import json_extract\n",
    "import pandas as pd\n",
    "import data_import_main\n",
    "import property_url_fetcher\n",
    "import asyncio\n",
    "import os"
   ]
  },
  {
   "cell_type": "code",
   "execution_count": 9,
   "id": "c626ea29",
   "metadata": {},
   "outputs": [],
   "source": [
    "#process:\n",
    "## json_extract->property_url_fetcher->data_import_main\n",
    "#First we will get the json from the url "
   ]
  },
  {
   "cell_type": "code",
   "execution_count": 10,
   "id": "be23bc06",
   "metadata": {},
   "outputs": [],
   "source": [
    "if os.path.isfile('urls_all.txt'):\n",
    "    with open('urls_all.txt', 'r') as file:\n",
    "        urls = [line.strip() for line in file.readlines()]\n",
    "else:\n",
    "    print('Ready to feel pain!! ')\n",
    "    \n",
    "    urls=json_extract.extract_all_url()\n",
    "    file=input('Write the file name with which you want to save the urls:\\n')\n",
    "    file=file + '.txt'\n",
    "    #Save the file inside txt\n",
    "    with open(file, 'w') as file:\n",
    "        for url in urls:\n",
    "            file.write(url + '\\n')"
   ]
  },
  {
   "cell_type": "code",
   "execution_count": 11,
   "id": "3222d756",
   "metadata": {},
   "outputs": [],
   "source": [
    "u=urls[1]"
   ]
  },
  {
   "cell_type": "code",
   "execution_count": 12,
   "id": "e594a1e4",
   "metadata": {},
   "outputs": [
    {
     "name": "stdout",
     "output_type": "stream",
     "text": [
      "We are on Link1\n",
      "\n",
      "\n"
     ]
    }
   ],
   "source": [
    "l=data_import_main.get_data([u])"
   ]
  },
  {
   "cell_type": "code",
   "execution_count": null,
   "id": "2145f084",
   "metadata": {},
   "outputs": [],
   "source": [
    "full_data = pd.DataFrame()\n",
    "for property_data_l in l:\n",
    "        p = pd.DataFrame(property_data_l,ignore_index=True)\n",
    "        full_data = pd.concat([full_data, p], ignore_index=True)\n",
    "        full_data.to_csv('Full_data.csv')\n",
    "        print('Data has been written to Full_data.csv')"
   ]
  },
  {
   "cell_type": "code",
   "execution_count": 7,
   "id": "d33675fc",
   "metadata": {},
   "outputs": [
    {
     "data": {
      "text/plain": [
       "[{'price': '',\n",
       "  'area': '',\n",
       "  'areaWithType': '',\n",
       "  'bedRoom': '',\n",
       "  'bathroom': '',\n",
       "  'balcony': '',\n",
       "  'additionalRoom': '',\n",
       "  'address': '',\n",
       "  'floorNum': '',\n",
       "  'facing': '',\n",
       "  'agePossession': '',\n",
       "  'nearbyLocations': '',\n",
       "  'description': '',\n",
       "  'More Description': '',\n",
       "  'furnishDetails': '',\n",
       "  'features': '',\n",
       "  'rating': '',\n",
       "  'property_id': '',\n",
       "  'additional_info': ''}]"
      ]
     },
     "execution_count": 7,
     "metadata": {},
     "output_type": "execute_result"
    }
   ],
   "source": [
    "l"
   ]
  },
  {
   "cell_type": "code",
   "execution_count": null,
   "id": "648fbc0d",
   "metadata": {},
   "outputs": [],
   "source": [
    "u"
   ]
  },
  {
   "cell_type": "code",
   "execution_count": null,
   "id": "8ebb903a",
   "metadata": {},
   "outputs": [],
   "source": [
    "# def extract_all_url(city=12):\n",
    "#     '''It extracts all the URL from the JSON of the site. Give the city number which you want to extract; check that in the site, you can find them in the network tab.'''\n",
    "#     all_url = []\n",
    "\n",
    "#     for page in range(1, 2589):\n",
    "#         json_url = f\"https://www.99acres.com/api-aggregator/discovery/srp/search?area_unit=1&platform=DESKTOP&moduleName=GRAILS_SRP&workflow=GRAILS_SRP&page_size=25&page={page}&city={city}&preference=S&res_com=R&seoUrlType=DEFAULT&recomGroupType=VSP&pageName=SRP&groupByConfigurations=true&lazy=true\"\n",
    "#         a = json_extract.extract(json_url)\n",
    "\n",
    "#         try:\n",
    "#             for i in range(len(a['properties'])):\n",
    "#                 try:\n",
    "#                     b = 'https://www.99acres.com/' + a['properties'][i]['PROP_DETAILS_URL']\n",
    "#                     all_url.append(b)\n",
    "#                 except KeyError:\n",
    "#                     b = a['properties'][i]['landingPage']['url']\n",
    "#                     all_url.append(b)\n",
    "#         except KeyError:\n",
    "#             continue\n",
    "#         except Exception as e:\n",
    "#             print(f\"Error occurred: {e}\")\n",
    "#             continue\n",
    "\n",
    "#     print(\"Extraction completed.\")\n",
    "#     return all_url\n"
   ]
  },
  {
   "cell_type": "code",
   "execution_count": null,
   "id": "5e7a91f2",
   "metadata": {},
   "outputs": [],
   "source": []
  },
  {
   "cell_type": "code",
   "execution_count": null,
   "id": "7c813d12",
   "metadata": {},
   "outputs": [],
   "source": [
    "l"
   ]
  },
  {
   "cell_type": "code",
   "execution_count": null,
   "id": "6a711398",
   "metadata": {},
   "outputs": [],
   "source": []
  },
  {
   "cell_type": "code",
   "execution_count": null,
   "id": "86053d70",
   "metadata": {},
   "outputs": [],
   "source": []
  },
  {
   "cell_type": "code",
   "execution_count": null,
   "id": "774ea138",
   "metadata": {},
   "outputs": [],
   "source": []
  },
  {
   "cell_type": "code",
   "execution_count": null,
   "id": "51704bda",
   "metadata": {},
   "outputs": [],
   "source": []
  },
  {
   "cell_type": "code",
   "execution_count": null,
   "id": "14c1e450",
   "metadata": {},
   "outputs": [],
   "source": []
  },
  {
   "cell_type": "code",
   "execution_count": null,
   "id": "b5124d9f",
   "metadata": {},
   "outputs": [],
   "source": []
  },
  {
   "cell_type": "code",
   "execution_count": null,
   "id": "693f9cb8",
   "metadata": {},
   "outputs": [],
   "source": []
  },
  {
   "cell_type": "code",
   "execution_count": null,
   "id": "63145517",
   "metadata": {},
   "outputs": [],
   "source": []
  },
  {
   "cell_type": "code",
   "execution_count": null,
   "id": "8be21857",
   "metadata": {},
   "outputs": [],
   "source": []
  },
  {
   "cell_type": "code",
   "execution_count": null,
   "id": "99c7ad92",
   "metadata": {},
   "outputs": [],
   "source": []
  },
  {
   "cell_type": "code",
   "execution_count": null,
   "id": "229ba790",
   "metadata": {},
   "outputs": [],
   "source": []
  },
  {
   "cell_type": "code",
   "execution_count": null,
   "id": "8696e3ad",
   "metadata": {},
   "outputs": [],
   "source": [
    "\n"
   ]
  },
  {
   "cell_type": "code",
   "execution_count": null,
   "id": "44ba148b",
   "metadata": {},
   "outputs": [],
   "source": []
  }
 ],
 "metadata": {
  "kernelspec": {
   "display_name": "Python 3 (ipykernel)",
   "language": "python",
   "name": "python3"
  },
  "language_info": {
   "codemirror_mode": {
    "name": "ipython",
    "version": 3
   },
   "file_extension": ".py",
   "mimetype": "text/x-python",
   "name": "python",
   "nbconvert_exporter": "python",
   "pygments_lexer": "ipython3",
   "version": "3.9.5"
  }
 },
 "nbformat": 4,
 "nbformat_minor": 5
}
